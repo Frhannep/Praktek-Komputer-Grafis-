{
  "nbformat": 4,
  "nbformat_minor": 0,
  "metadata": {
    "colab": {
      "provenance": [],
      "authorship_tag": "ABX9TyM1V7KZLzYW5pT900tu1plS",
      "include_colab_link": true
    },
    "kernelspec": {
      "name": "python3",
      "display_name": "Python 3"
    },
    "language_info": {
      "name": "python"
    }
  },
  "cells": [
    {
      "cell_type": "markdown",
      "metadata": {
        "id": "view-in-github",
        "colab_type": "text"
      },
      "source": [
        "<a href=\"https://colab.research.google.com/github/Frhannep/Praktek-Komputer-Grafis-/blob/main/jawaban_soal_nomor_4.ipynb\" target=\"_parent\"><img src=\"https://colab.research.google.com/assets/colab-badge.svg\" alt=\"Open In Colab\"/></a>"
      ]
    },
    {
      "cell_type": "code",
      "execution_count": 1,
      "metadata": {
        "colab": {
          "base_uri": "https://localhost:8080/"
        },
        "id": "5Wjv79ZhMhfr",
        "outputId": "49065447-66b5-4558-8e2f-1e84502bfeaf"
      },
      "outputs": [
        {
          "output_type": "stream",
          "name": "stdout",
          "text": [
            "Jalur yang ditemukan: ['A', 'B', 'D', 'G']\n"
          ]
        }
      ],
      "source": [
        "from heapq import heappop, heappush\n",
        "\n",
        "def a_star(graph, start, goal, h):\n",
        "    open_list = []\n",
        "    heappush(open_list, (0, start, [start]))  # (f_score, node, path)\n",
        "    g = {start: 0}\n",
        "\n",
        "    while open_list:\n",
        "        f, current, path = heappop(open_list)\n",
        "        if current == goal:\n",
        "            return path  # jalur eksplisit\n",
        "\n",
        "        for neighbor, cost in graph[current]:\n",
        "            tentative_g = g[current] + cost\n",
        "            if neighbor not in g or tentative_g < g[neighbor]:\n",
        "                g[neighbor] = tentative_g\n",
        "                f_score = tentative_g + h[neighbor]\n",
        "                heappush(open_list, (f_score, neighbor, path + [neighbor]))\n",
        "    return None\n",
        "\n",
        "# Contoh graf\n",
        "graph = {\n",
        "    'A': [('B', 1), ('C', 3)],\n",
        "    'B': [('D', 1), ('E', 5)],\n",
        "    'C': [('F', 2)],\n",
        "    'D': [('G', 2)],\n",
        "    'E': [('G', 1)],\n",
        "    'F': [('G', 5)],\n",
        "    'G': []\n",
        "}\n",
        "\n",
        "heuristic = {'A': 6, 'B': 4, 'C': 4, 'D': 2, 'E': 1, 'F': 3, 'G': 0}\n",
        "\n",
        "path = a_star(graph, 'A', 'G', heuristic)\n",
        "print(\"Jalur yang ditemukan:\", path)"
      ]
    }
  ]
}